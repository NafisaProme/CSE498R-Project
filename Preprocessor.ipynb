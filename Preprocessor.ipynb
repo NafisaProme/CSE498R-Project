{
 "cells": [
  {
   "cell_type": "code",
   "execution_count": 109,
   "id": "88b57db2",
   "metadata": {},
   "outputs": [],
   "source": [
    "import pandas as pd\n",
    "from collections import OrderedDict\n",
    "\n",
    "df = pd.read_csv('raw_data.csv')\n",
    "\n",
    "# function to create the maps for the columns\n",
    "def create_map(column_name):\n",
    "    # Get the values from the specified column\n",
    "    values = df[column_name].astype(str).dropna().values.tolist()\n",
    "    \n",
    "    # Initialize an ordered dictionary to maintain the original order\n",
    "    mapping_dict = OrderedDict()\n",
    "\n",
    "    for value in values:\n",
    "        cleaned_value = value\n",
    "        if cleaned_value not in mapping_dict:\n",
    "            mapping_dict[cleaned_value] = len(mapping_dict)\n",
    "\n",
    "    return dict(mapping_dict)\n",
    "\n",
    "# creating map for the data and replacing them with the key values\n",
    "for column_name in df.columns[:4]:\n",
    "    data = create_map(column_name)\n",
    "    df[column_name] = df[column_name].astype(str).replace(data)\n",
    "\n",
    "df.to_csv('preprocessed_data.csv', index=False)"
   ]
  }
 ],
 "metadata": {
  "kernelspec": {
   "display_name": "Python 3 (ipykernel)",
   "language": "python",
   "name": "python3"
  },
  "language_info": {
   "codemirror_mode": {
    "name": "ipython",
    "version": 3
   },
   "file_extension": ".py",
   "mimetype": "text/x-python",
   "name": "python",
   "nbconvert_exporter": "python",
   "pygments_lexer": "ipython3",
   "version": "3.9.13"
  }
 },
 "nbformat": 4,
 "nbformat_minor": 5
}
