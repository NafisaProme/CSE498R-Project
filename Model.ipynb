{
 "cells": [
  {
   "cell_type": "code",
   "execution_count": 4,
   "id": "e63c2aaa",
   "metadata": {
    "scrolled": false
   },
   "outputs": [
    {
     "name": "stdout",
     "output_type": "stream",
     "text": [
      "Mean Squared Error (MSE): 14673086.59613625\n",
      "Root Mean Squared Error (RMSE): 3830.5465140285464\n",
      "R-squared (R2): 0.9483449727913066\n",
      "       Actual  Predicted\n",
      "4357   2982.0    3308.90\n",
      "3630  28152.0   27547.28\n",
      "1208  10893.0   10640.21\n",
      "5411   6548.0    6750.93\n",
      "3183   2655.0    2735.03\n",
      "...       ...        ...\n",
      "3247  10284.0   10725.28\n",
      "2487    778.0     813.35\n",
      "5863   2510.0    2521.90\n",
      "3974  17600.0    9782.08\n",
      "4740  10053.0    8107.80\n",
      "\n",
      "[1136 rows x 2 columns]\n"
     ]
    }
   ],
   "source": [
    "import pandas as pd\n",
    "import numpy as np\n",
    "from sklearn.model_selection import train_test_split\n",
    "from sklearn.ensemble import RandomForestRegressor\n",
    "from sklearn.metrics import mean_squared_error, r2_score\n",
    "\n",
    "df = pd.read_csv('preprocessed_data.csv')\n",
    "\n",
    "# Convert 'Price' column to numeric, converting non-numeric values to NaN\n",
    "df['Price'] = pd.to_numeric(df['Price'], errors='coerce')\n",
    "\n",
    "# Drop rows with NaN values in the 'Price' column\n",
    "df.dropna(subset=['Price'], inplace=True)\n",
    "df.dropna(inplace=True)\n",
    "\n",
    "# Exclude 'Price' column from the features (X)\n",
    "X = df.drop(columns=['Price'])\n",
    "\n",
    "# Target variable (y) is 'Price'\n",
    "y = df['Price']\n",
    "\n",
    "# Convert categorical variables to numeric using one-hot encoding\n",
    "X = pd.get_dummies(X, drop_first=True)\n",
    "\n",
    "# Split the data into training and testing sets\n",
    "X_train, X_test, y_train, y_test = train_test_split(X, y, test_size=0.3, random_state=42)\n",
    "\n",
    "# Initialize the Random Forest Regressor model\n",
    "rf_model = RandomForestRegressor(n_estimators=100, random_state=42)\n",
    "\n",
    "# Train the model on the training data\n",
    "rf_model.fit(X_train, y_train)\n",
    "\n",
    "# Make predictions on the test data\n",
    "y_pred = rf_model.predict(X_test)\n",
    "\n",
    "# Evaluate the model\n",
    "mse = mean_squared_error(y_test, y_pred)\n",
    "rmse = mse**0.5\n",
    "r2 = r2_score(y_test, y_pred)\n",
    "\n",
    "print(f\"Mean Squared Error (MSE): {mse}\")\n",
    "print(f\"Root Mean Squared Error (RMSE): {rmse}\")\n",
    "print(f\"R-squared (R2): {r2}\")\n",
    "\n",
    "actual_vs_predicted = pd.DataFrame({'Actual': y_test, 'Predicted': y_pred})\n",
    "print(actual_vs_predicted)"
   ]
  },
  {
   "cell_type": "code",
   "execution_count": null,
   "id": "05b207fa",
   "metadata": {},
   "outputs": [],
   "source": [
    "# 1) L1 regularization\n",
    "# 2) One-hot or any other encoding\n",
    "# 3) L2 regularizations\n",
    "# 4) Elastic Net\n",
    "# 5) Variation and correlation amongst the data\n",
    "# 6) Usage of the range values instead of the avg for temp, humidity etc"
   ]
  },
  {
   "cell_type": "code",
<<<<<<< HEAD
   "execution_count": null,
   "id": "9dbfc04e",
=======
   "execution_count": 6,
   "id": "9413cc66",
>>>>>>> 1c1d912d0ea91501ca8c223192a5dda93e74ab09
   "metadata": {},
   "outputs": [
    {
     "name": "stdout",
     "output_type": "stream",
     "text": [
      "Decision Tree Model:\n",
      "Mean Squared Error (MSE): 36901832.28046753\n",
      "Root Mean Squared Error (RMSE): 6074.687833993409\n",
      "R-squared (R2): 0.8700910583462291\n",
      "       Actual  Predicted\n",
      "4357   2982.0    3308.90\n",
      "3630  28152.0   27547.28\n",
      "1208  10893.0   10640.21\n",
      "5411   6548.0    6750.93\n",
      "3183   2655.0    2735.03\n",
      "...       ...        ...\n",
      "3247  10284.0   10725.28\n",
      "2487    778.0     813.35\n",
      "5863   2510.0    2521.90\n",
      "3974  17600.0    9782.08\n",
      "4740  10053.0    8107.80\n",
      "\n",
      "[1136 rows x 2 columns]\n"
     ]
    }
   ],
   "source": [
    "import pandas as pd\n",
    "import numpy as np\n",
    "from sklearn.model_selection import train_test_split\n",
    "from sklearn.tree import DecisionTreeRegressor\n",
    "from sklearn.metrics import mean_squared_error, r2_score\n",
    "\n",
    "df = pd.read_csv('preprocessed_data.csv')\n",
    "\n",
    "# Split the data into training and testing sets (if not already done)\n",
    "X_train, X_test, y_train, y_test = train_test_split(X, y, test_size=0.3, random_state=42)\n",
    "\n",
    "# Initialize the Decision Tree Regressor model\n",
    "dt_model = DecisionTreeRegressor(random_state=42)\n",
    "\n",
    "# Train the Decision Tree model on the training data\n",
    "dt_model.fit(X_train, y_train)\n",
    "\n",
    "# Make predictions using the Decision Tree model\n",
    "y_pred_dt = dt_model.predict(X_test)\n",
    "\n",
    "# Evaluate the Decision Tree model\n",
    "mse_dt = mean_squared_error(y_test, y_pred_dt)\n",
    "rmse_dt = mse_dt**0.5\n",
    "r2_dt = r2_score(y_test, y_pred_dt)\n",
    "\n",
    "print(\"Decision Tree Model:\")\n",
    "print(f\"Mean Squared Error (MSE): {mse_dt}\")\n",
    "print(f\"Root Mean Squared Error (RMSE): {rmse_dt}\")\n",
    "print(f\"R-squared (R2): {r2_dt}\")\n",
    "\n",
    "actual_vs_predicted = pd.DataFrame({'Actual': y_test, 'Predicted': y_pred})\n",
    "print(actual_vs_predicted)\n",
    "\n",
    "\n"
   ]
  },
  {
   "cell_type": "code",
   "execution_count": 22,
   "id": "afd3cf44",
   "metadata": {},
   "outputs": [
    {
     "name": "stdout",
     "output_type": "stream",
     "text": [
      "Ridge Regression Model:\n",
      "Mean Squared Error (MSE): 272299685.4920772\n",
      "Root Mean Squared Error (RMSE): 16501.50555228453\n",
      "R-squared (R2): 0.041398169985876754\n"
     ]
    }
   ],
   "source": [
    "from sklearn.linear_model import Ridge\n",
    "\n",
    "# Initialize Ridge Regression model with higher alpha for stronger regularization\n",
    "ridge_alpha = 20 # Adjust the alpha as needed\n",
    "ridge_model = Ridge(alpha=ridge_alpha)\n",
    "\n",
    "# Train the Ridge model\n",
    "ridge_model.fit(X_train, y_train)\n",
    "\n",
    "# Make predictions using the Ridge model\n",
    "y_pred_ridge = ridge_model.predict(X_test)\n",
    "\n",
    "# Evaluate the Ridge model\n",
    "mse_ridge = mean_squared_error(y_test, y_pred_ridge)\n",
    "rmse_ridge = mse_ridge ** 0.5\n",
    "r2_ridge = r2_score(y_test, y_pred_ridge)\n",
    "\n",
    "print(\"Ridge Regression Model:\")\n",
    "print(f\"Mean Squared Error (MSE): {mse_ridge}\")\n",
    "print(f\"Root Mean Squared Error (RMSE): {rmse_ridge}\")\n",
    "print(f\"R-squared (R2): {r2_ridge}\")"
   ]
  },
  {
   "cell_type": "code",
   "execution_count": 18,
   "id": "2cf7a661",
   "metadata": {},
   "outputs": [
    {
     "name": "stdout",
     "output_type": "stream",
     "text": [
      "Lasso Regression Model:\n",
      "Mean Squared Error (MSE): 271561492.5278457\n",
      "Root Mean Squared Error (RMSE): 16479.122929568966\n",
      "R-squared (R2): 0.04399689912189131\n"
     ]
    }
   ],
   "source": [
    "from sklearn.linear_model import Lasso\n",
    "\n",
    "lasso_alpha = 20  # Adjust the alpha as needed\n",
    "lasso_model = Lasso(alpha=lasso_alpha)\n",
    "\n",
    "# Train the Lasso model\n",
    "lasso_model.fit(X_train, y_train)\n",
    "\n",
    "# Make predictions using the Lasso model\n",
    "y_pred_lasso = lasso_model.predict(X_test)\n",
    "\n",
    "# Evaluate the Lasso model\n",
    "mse_lasso = mean_squared_error(y_test, y_pred_lasso)\n",
    "rmse_lasso = mse_lasso ** 0.5\n",
    "r2_lasso = r2_score(y_test, y_pred_lasso)\n",
    "\n",
    "print(\"Lasso Regression Model:\")\n",
    "print(f\"Mean Squared Error (MSE): {mse_lasso}\")\n",
    "print(f\"Root Mean Squared Error (RMSE): {rmse_lasso}\")\n",
    "print(f\"R-squared (R2): {r2_lasso}\")"
   ]
  },
  {
   "cell_type": "code",
   "execution_count": 21,
   "id": "171ca51f",
   "metadata": {},
   "outputs": [
    {
     "name": "stdout",
     "output_type": "stream",
     "text": [
      "       Actual  Ridge Predicted  Lasso Predicted\n",
      "4357   2982.0     12646.950974     12674.381492\n",
      "3630  28152.0     16119.320992     16102.350955\n",
      "1208  10893.0      6787.773962      6780.564371\n",
      "5411   6548.0     13354.193489     13324.591387\n",
      "3183   2655.0     10916.685956     10975.158430\n"
     ]
    }
   ],
   "source": [
    "import pandas as pd\n",
    "import numpy as np\n",
    "from sklearn.model_selection import train_test_split\n",
    "from sklearn.linear_model import Ridge, Lasso\n",
    "from sklearn.metrics import mean_squared_error, r2_score\n",
    "\n",
    "# Load and preprocess your data (similar to your initial code)\n",
    "\n",
    "# Split the data into training and testing sets\n",
    "X_train, X_test, y_train, y_test = train_test_split(X, y, test_size=0.3, random_state=42)\n",
    "\n",
    "# Initialize Ridge and Lasso models with your chosen alpha values\n",
    "ridge_alpha = 20.0  # Adjust the alpha as needed\n",
    "ridge_model = Ridge(alpha=ridge_alpha)\n",
    "\n",
    "lasso_alpha = 10.0  # Adjust the alpha as needed\n",
    "lasso_model = Lasso(alpha=lasso_alpha)\n",
    "\n",
    "# Train the Ridge and Lasso models\n",
    "ridge_model.fit(X_train, y_train)\n",
    "lasso_model.fit(X_train, y_train)\n",
    "\n",
    "# Make predictions using both models\n",
    "y_pred_ridge = ridge_model.predict(X_test)\n",
    "y_pred_lasso = lasso_model.predict(X_test)\n",
    "\n",
    "# Create DataFrames for actual prices and predictions\n",
    "results_df = pd.DataFrame({'Actual': y_test, 'Ridge Predicted': y_pred_ridge, 'Lasso Predicted': y_pred_lasso})\n",
    "\n",
    "# Print the first few rows of the DataFrame to compare actual and predicted prices\n",
    "print(results_df.head())\n"
   ]
  },
  {
   "cell_type": "code",
   "execution_count": null,
   "id": "7593c71f",
   "metadata": {},
   "outputs": [],
   "source": []
  }
 ],
 "metadata": {
  "kernelspec": {
   "display_name": "Python 3 (ipykernel)",
   "language": "python",
   "name": "python3"
  },
  "language_info": {
   "codemirror_mode": {
    "name": "ipython",
    "version": 3
   },
   "file_extension": ".py",
   "mimetype": "text/x-python",
   "name": "python",
   "nbconvert_exporter": "python",
   "pygments_lexer": "ipython3",
   "version": "3.9.13"
  }
 },
 "nbformat": 4,
 "nbformat_minor": 5
}
