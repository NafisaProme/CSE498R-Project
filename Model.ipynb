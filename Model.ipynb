{
 "cells": [
  {
   "cell_type": "code",
   "execution_count": 22,
   "id": "a6058d52",
   "metadata": {},
   "outputs": [
    {
     "name": "stdout",
     "output_type": "stream",
     "text": [
      "Mean Squared Error (MSE): 16962954.493490875\n",
      "Root Mean Squared Error (RMSE): 4118.6107479939\n",
      "R-squared (R2): 0.9370777600109618\n",
      "       Actual     Predicted\n",
      "4357   2982.0   3242.140000\n",
      "3630  28152.0  27679.730000\n",
      "1208  10893.0  10574.300000\n",
      "5411   6548.0   6741.600000\n",
      "3183   2655.0   2727.700000\n",
      "...       ...           ...\n",
      "3094   9646.0  33487.416976\n",
      "2387  12978.0  13466.270000\n",
      "5021   6669.0   7543.380000\n",
      "4364   6400.0   6757.720000\n",
      "5037    377.0    629.700000\n",
      "\n",
      "[757 rows x 2 columns]\n"
     ]
    }
   ],
   "source": [
    "import pandas as pd\n",
    "import numpy as np\n",
    "from sklearn.model_selection import train_test_split\n",
    "from sklearn.ensemble import RandomForestRegressor\n",
    "from sklearn.metrics import mean_squared_error, r2_score\n",
    "\n",
    "# Load your dataset (you've already done this)\n",
    "df = pd.read_csv('preprocessed_data.csv')\n",
    "\n",
    "# Convert 'Price' column to numeric, converting non-numeric values to NaN\n",
    "df['Price'] = pd.to_numeric(df['Price'], errors='coerce')\n",
    "\n",
    "# Drop rows with NaN values in the 'Price' column\n",
    "df.dropna(subset=['Price'], inplace=True)\n",
    "df.dropna(inplace=True)\n",
    "\n",
    "# Exclude 'Price' column from the features (X)\n",
    "X = df.drop(columns=['Price'])\n",
    "\n",
    "# Target variable (y) is 'Price'\n",
    "y = df['Price']\n",
    "\n",
    "# Convert categorical variables to numeric using one-hot encoding\n",
    "X = pd.get_dummies(X, drop_first=True)\n",
    "\n",
    "# Split the data into training and testing sets\n",
    "X_train, X_test, y_train, y_test = train_test_split(X, y, test_size=0.2, random_state=42)\n",
    "\n",
    "# Initialize the Random Forest Regressor model\n",
    "rf_model = RandomForestRegressor(n_estimators=100, random_state=42)\n",
    "\n",
    "# Train the model on the training data\n",
    "rf_model.fit(X_train, y_train)\n",
    "\n",
    "# Make predictions on the test data\n",
    "y_pred = rf_model.predict(X_test)\n",
    "\n",
    "# Evaluate the model\n",
    "mse = mean_squared_error(y_test, y_pred)\n",
    "rmse = mse**0.5\n",
    "r2 = r2_score(y_test, y_pred)\n",
    "\n",
    "print(f\"Mean Squared Error (MSE): {mse}\")\n",
    "print(f\"Root Mean Squared Error (RMSE): {rmse}\")\n",
    "print(f\"R-squared (R2): {r2}\")\n",
    "\n",
    "actual_vs_predicted = pd.DataFrame({'Actual': y_test, 'Predicted': y_pred})\n",
    "print(actual_vs_predicted)"
   ]
  }
 ],
 "metadata": {
  "kernelspec": {
   "display_name": "Python 3 (ipykernel)",
   "language": "python",
   "name": "python3"
  },
  "language_info": {
   "codemirror_mode": {
    "name": "ipython",
    "version": 3
   },
   "file_extension": ".py",
   "mimetype": "text/x-python",
   "name": "python",
   "nbconvert_exporter": "python",
   "pygments_lexer": "ipython3",
   "version": "3.9.13"
  }
 },
 "nbformat": 4,
 "nbformat_minor": 5
}
