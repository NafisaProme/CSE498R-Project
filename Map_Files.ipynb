{
 "cells": [
  {
   "cell_type": "code",
   "execution_count": 4,
   "id": "0a568d8e",
   "metadata": {},
   "outputs": [
    {
     "name": "stdout",
     "output_type": "stream",
     "text": [
      "['                                                   BDFW7RFL                                                   \\n', '                                                BDFW7RFL_DICT                                                 \\n', '\\n', '                                        BDFW7RFL.DCF                                                          \\n', '                                    Last Modified:  8/11/2020  4:39:17 PM                                     \\n', '\\n', '--------------------------------------------------------------------------------------------------------------\\n', 'Level Name                    Level Label                                                  Type            Rec\\n', '  Record Name                   Record Label                                              Value  Req  Max  Len\\n', '--------------------------------------------------------------------------------------------------------------\\n', 'LEVEL_1                       Level 1                                                                         \\n', '  FWRECORD                      Fieldworker record                                               Yes    1   32\\n', '\\x0cLevel: Level 1                                         Record: Fieldworker record\\n', '--------------------------------------------------------------------------------------------------------------\\n', '                                                                                 Data Item            Dec Zero\\n', 'Item Name              Item Label                                     Start  Len Type Type  Occ  Dec Char Fill\\n', '--------------------------------------------------------------------------------------------------------------\\n', 'FW101             (id) Fieldworker code                                   1    4    N    I    1    0   No   No\\n', '                         (record type)                                    0    0   AN    I    1    0   No   No\\n', 'FW000                  Country code and phase                             5    3   AN    I    1    0   No   No\\n', 'FW102                  Fieldworker region of residence                    8    2    N    I    1    0   No   No\\n', '                               1  Barisal\\n', '                               2  Chittagong\\n', '                               3  Dhaka\\n', '                               4  Khulna\\n', '                               5  Mymensingh\\n', '                               6  Rajshahi\\n', '                               7  Rangpur\\n', '                               8  Sylhet\\n', 'FW103                  Fieldworker type of place of residence            10    1    N    I    1    0   No   No\\n', '                               1  CIty\\n', '                               2  Town\\n', '                               3  Rural\\n', '                          (na)    Not applicable\\n', 'FW104                  Fieldworker age                                   11    2    N    I    1    0   No   No\\n', '                               15:65  \\n', '                          (na)        Not applicable\\n', 'FW105                  Fieldworker sex                                   13    1    N    I    1    0   No   No\\n', '                               1  Male\\n', '                               2  Female\\n', '                          (na)    Not applicable\\n', 'FW106                  Fieldworker marital status                        14    1    N    I    1    0   No   No\\n', '                               1  Currently married\\n', '                               3  Widowed\\n', '                               4  Divorced\\n', '                               5  Separated\\n', '                               6  Never married\\n', '                          (na)    Not applicable\\n', 'FW107                  Fieldworker number of living children             15    2    N    I    1    0   No   No\\n', '                               0:24  \\n', '                          (na)       Not applicable\\n', 'FW108                  Fieldworker ever had a child who died             17    1    N    I    1    0   No   No\\n', '                               1  Yes\\n', '                               2  No\\n', '                          (na)    Not applicable\\n', 'FW109                  Highest level of school attended by fieldworker   18    1    N    I    1    0   No   No\\n', '                               1  Primary\\n', '                               2  Secondary\\n', '                               3  Higher\\n', '                          (na)    Not applicable\\n', 'FW110                  Highest grade/form/year at that level completed   19    2    N    I    1    0   No   No\\n', '                               0     Less than one year at level\\n', '                               1:18  \\n', '                          (na)       Not applicable\\n', 'FW111                  Fieldworker religion                              21    2    N    I    1    0   No   No\\n', '                               1   Islam\\n', '                               2   Hinduism\\n', '                               3   Buddhism\\n', '                               4   Christianity\\n', '                               95  No religion\\n', '                               96  Other\\n', '                           (m) 99  Missing\\n', '                          (na)     Not applicable\\n', 'FW113A                 Bangla                                            23    1   AN    I    1    0   No   No\\n', '                               A  Bangla\\n', 'FW113B                 English                                           24    1   AN    I    1    0   No   No\\n', '                               B  English\\n', 'FW113C                 Hindi                                             25    1   AN    I    1    0   No   No\\n', '                               C  Hindi\\n', 'FW113D                 Urdu                                              26    1   AN    I    1    0   No   No\\n', '                               D  Urdu\\n', 'FW113X                 Other language                                    27    1   AN    I    1    0   No   No\\n', '                               X  Other language\\n', \"FW114                  Fieldworker's mother tongue/native language       28    1   AN    I    1    0   No   No\\n\", '                               A  Bangla\\n', '                               B  English\\n', '                               C  Hindi\\n', '                               D  Urdu\\n', '                               X  Other\\n', '                               Y  No other language\\n', 'FW115                  Has fieldworker ever worked on a DHS              29    1    N    I    1    0   No   No\\n', '                               1  Yes\\n', '                               2  No\\n', '                          (na)    Not applicable\\n', 'FW116                  Has fieldworker ever worked on any other survey   30    1    N    I    1    0   No   No\\n', '                               1  Yes\\n', '                               2  No\\n', '                          (na)    Not applicable\\n', 'FW117                  Was fieldworker working for Mitra and Associate   31    1    N    I    1    0   No   No\\n', '                               1  Yes, [Implementing agency 1]\\n', '                               2  Yes, [Implementing agency 2]\\n', '                               3  No\\n', '                          (na)    Not applicable\\n', 'FW118                  Is fieldworker a permanent or temporary employe   32    1    N    I    1    0   No   No\\n', '                               1  Permanent\\n', '                               2  Temporary\\n', '                          (na)    Not applicable\\n', '\\x0c--------------------------------------------------------------------------------------------------------------\\n', 'Relation Name         Primary               Linked by             Secondary             Linked by\\n', '--------------------------------------------------------------------------------------------------------------\\n']\n",
      "[]\n"
     ]
    }
   ],
   "source": [
    "map_file_path = 'dataset/map/BDFW7RFL.MAP'\n",
    "\n",
    "variable_names = []\n",
    "\n",
    "with open(map_file_path, 'r') as map_file:\n",
    "    lines = map_file.readlines()\n",
    "    print(lines)\n",
    "\n",
    "print(variable_names)"
   ]
  }
 ],
 "metadata": {
  "kernelspec": {
   "display_name": "Python 3 (ipykernel)",
   "language": "python",
   "name": "python3"
  },
  "language_info": {
   "codemirror_mode": {
    "name": "ipython",
    "version": 3
   },
   "file_extension": ".py",
   "mimetype": "text/x-python",
   "name": "python",
   "nbconvert_exporter": "python",
   "pygments_lexer": "ipython3",
   "version": "3.9.13"
  }
 },
 "nbformat": 4,
 "nbformat_minor": 5
}
