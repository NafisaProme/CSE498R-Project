{
 "cells": [
  {
   "cell_type": "code",
   "execution_count": 26,
   "id": "413d511e",
   "metadata": {},
   "outputs": [],
   "source": [
    "import pandas as pd\n",
    "dtafile = 'dataset/dta/BDFW7RFL.dta'\n",
    "\n",
    "df = pd.read_stata(dtafile)\n",
    "df.to_csv('dataset/csv/fw.csv', index=False)\n"
   ]
  },
  {
   "cell_type": "code",
   "execution_count": 29,
   "id": "f2252773",
   "metadata": {},
   "outputs": [],
   "source": [
    "import pandas as pd\n",
    "\n",
    "# Read .map file using pandas\n",
    "map_data = pd.read_csv('dataset/map/BDFW7RFL.map', sep='\\t', header=None, names=['Variable', 'Label'])\n",
    "map_data.to_csv('dataset/csv/map_fw.csv', index=False)"
   ]
  },
  {
   "cell_type": "code",
   "execution_count": 46,
   "id": "33b3bdfb",
   "metadata": {},
   "outputs": [
    {
     "name": "stdout",
     "output_type": "stream",
     "text": [
      "['BDBR7RFL.DTA', 'BDFW7RFL.DTA', 'BDHR7RFL.DTA', 'BDIR7RFL.DTA', 'BDKR7RFL.DTA', 'BDPR7RFL.DTA', 'BDSQ7RFL.DTA', 'BDVA7RFL.DTA']\n"
     ]
    }
   ],
   "source": [
    "import os\n",
    "\n",
    "# Specify the directory path\n",
    "folder_path = r'C:\\Users\\RifatXia\\Desktop\\CSE498R Project\\CSE498R\\dataset\\dta'\n",
    "\n",
    "# Get a list of all files in the directory\n",
    "files_in_folder = os.listdir(folder_path)\n",
    "\n",
    "# # Filter out .dta files\n",
    "dta_files = [file for file in files_in_folder if file.endswith('.DTA')]\n",
    "\n",
    "# # Print the list of .dta files\n",
    "print(dta_files)\n"
   ]
  },
  {
   "cell_type": "code",
   "execution_count": 54,
   "id": "af4446c6",
   "metadata": {},
   "outputs": [
    {
     "name": "stdout",
     "output_type": "stream",
     "text": [
      "Converted BDBR7RFL.DTA to BDBR7RFL.csv\n",
      "Converted BDFW7RFL.DTA to BDFW7RFL.csv\n",
      "Converted BDHR7RFL.DTA to BDHR7RFL.csv\n",
      "Converted BDIR7RFL.DTA to BDIR7RFL.csv\n",
      "Converted BDKR7RFL.DTA to BDKR7RFL.csv\n",
      "Converted BDPR7RFL.DTA to BDPR7RFL.csv\n",
      "Converted BDSQ7RFL.DTA to BDSQ7RFL.csv\n",
      "Converted BDVA7RFL.DTA to BDVA7RFL.csv\n"
     ]
    }
   ],
   "source": [
    "import os\n",
    "import pandas as pd\n",
    "\n",
    "dta_folder = 'dataset/dta'\n",
    "csv_output_folder = 'dataset/csv'\n",
    "\n",
    "for info in dta_files:\n",
    "    dtafile = os.path.join(dta_folder, info)\n",
    "    csv_filename = os.path.splitext(info)[0] + '.csv'\n",
    "    csv_path = os.path.join(csv_output_folder, csv_filename)\n",
    "    \n",
    "    df = pd.read_stata(dtafile)\n",
    "    df.to_csv(csv_path, index=False)\n",
    "    \n",
    "    print(f\"Converted {info} to {csv_filename}\")"
   ]
  }
 ],
 "metadata": {
  "kernelspec": {
   "display_name": "Python 3 (ipykernel)",
   "language": "python",
   "name": "python3"
  },
  "language_info": {
   "codemirror_mode": {
    "name": "ipython",
    "version": 3
   },
   "file_extension": ".py",
   "mimetype": "text/x-python",
   "name": "python",
   "nbconvert_exporter": "python",
   "pygments_lexer": "ipython3",
   "version": "3.9.13"
  }
 },
 "nbformat": 4,
 "nbformat_minor": 5
}
